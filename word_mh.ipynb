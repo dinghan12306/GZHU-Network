{
 "cells": [
  {
   "cell_type": "code",
   "execution_count": 1,
   "metadata": {},
   "outputs": [],
   "source": [
    "import numpy as np \n",
    "import pandas as pd\n",
    "import os"
   ]
  },
  {
   "cell_type": "code",
   "execution_count": 176,
   "metadata": {},
   "outputs": [],
   "source": [
    "train = pd.read_csv(\"./data/train.csv\")\n",
    "train = pd.DataFrame(train)\n",
    "demo = train.get(\"class\")\n",
    "#demo.split()\n",
    "#print(train)\n",
    "train_article = train.loc[:,['article','class']]"
   ]
  },
  {
   "cell_type": "code",
   "execution_count": 200,
   "metadata": {},
   "outputs": [],
   "source": [
    "high_word_list = pd.read_csv(\"./data/book/high_word_list.csv\",names=[\"words\"])\n",
    "middle_word_list = pd.read_csv(\"./data/book/middle_word_list.csv\",names=[\"words\"])\n",
    "dic_freq = Counter(high_word_list[\"words\"])\n",
    "\n",
    "dic_word = tuple2word(dic_freq.most_common())\n",
    "dic_word_20 = tuple2word(dic_freq.most_common(20))\n"
   ]
  },
  {
   "cell_type": "code",
   "execution_count": 201,
   "metadata": {},
   "outputs": [
    {
     "name": "stdout",
     "output_type": "stream",
     "text": [
      "4112 2896\n"
     ]
    }
   ],
   "source": [
    "from collections import Counter\n",
    "def tuple2word(dic_most):\n",
    "    tmp = []\n",
    "    for i in dic_most:\n",
    "        tmp.append(i[0])\n",
    "    return tmp\n",
    "#生成词频统计\n",
    "def prepare_word(all_dic):\n",
    "    dic = []\n",
    "    dic_freq_10 = set(tuple2word(Counter(all_dic).most_common(10)))\n",
    "    specil_word = {'and','the','with','in','by','its','for','of','an','to','adj','n','pron','adv','conj','vt','vi','prep'}\n",
    "    specil_word.update(dic_freq_10)\n",
    "    #print(specil_word)\n",
    "    for word in set(all_dic):\n",
    "        if word not in specil_word:\n",
    "            dic.append(word)\n",
    "        else:\n",
    "            continue\n",
    "    return dic\n",
    "\n",
    "dic_h = prepare_word(high_word_list[\"words\"])\n",
    "dic_m = prepare_word(middle_word_list[\"words\"])\n",
    "print(len(dic_h),len(dic_m))"
   ]
  },
  {
   "cell_type": "code",
   "execution_count": 254,
   "metadata": {},
   "outputs": [
    {
     "name": "stdout",
     "output_type": "stream",
     "text": [
      "2709 2896\n"
     ]
    }
   ],
   "source": [
    "for word in dic_m:\n",
    "    if word in dic_h:\n",
    "        dic_h.remove(word)\n",
    "print(len(dic_h),len(dic_m))"
   ]
  },
  {
   "cell_type": "code",
   "execution_count": 255,
   "metadata": {},
   "outputs": [],
   "source": [
    "#five_dic_1\n",
    "def mh_ratio(demo):\n",
    "    txt = demo.split()\n",
    "    new_dic_0 = []\n",
    "    new_dic_1 = []\n",
    "    for w in set(txt):\n",
    "        if w in dic_h:\n",
    "            new_dic_0.append(w)\n",
    "        if w in dic_m:\n",
    "            new_dic_1.append(w)\n",
    "    #print(len(new_dic_0)/(len(new_dic_0)+len(new_dic_1)))\n",
    "    return len(new_dic_0)/(len(new_dic_0)+len(new_dic_1))#大于0.5属于初中 小于0.5属于高中"
   ]
  },
  {
   "cell_type": "code",
   "execution_count": 256,
   "metadata": {},
   "outputs": [
    {
     "name": "stdout",
     "output_type": "stream",
     "text": [
      "index: 0\n",
      "index: 1000\n",
      "index: 2000\n",
      "index: 3000\n",
      "index: 4000\n",
      "index: 5000\n",
      "index: 6000\n",
      "index: 7000\n",
      "index: 8000\n",
      "index: 9000\n",
      "index: 10000\n",
      "index: 11000\n",
      "index: 12000\n",
      "index: 13000\n",
      "index: 14000\n",
      "index: 15000\n",
      "index: 16000\n",
      "index: 17000\n",
      "index: 18000\n",
      "index: 19000\n",
      "index: 20000\n",
      "index: 21000\n",
      "index: 22000\n",
      "index: 23000\n"
     ]
    },
    {
     "ename": "ZeroDivisionError",
     "evalue": "division by zero",
     "output_type": "error",
     "traceback": [
      "\u001b[1;31m---------------------------------------------------------------------------\u001b[0m",
      "\u001b[1;31mZeroDivisionError\u001b[0m                         Traceback (most recent call last)",
      "\u001b[1;32m<ipython-input-256-d5d61cb094f2>\u001b[0m in \u001b[0;36m<module>\u001b[1;34m\u001b[0m\n\u001b[0;32m      2\u001b[0m \u001b[0mm_f\u001b[0m \u001b[1;33m=\u001b[0m \u001b[1;33m[\u001b[0m\u001b[1;33m]\u001b[0m\u001b[1;33m\u001b[0m\u001b[1;33m\u001b[0m\u001b[0m\n\u001b[0;32m      3\u001b[0m \u001b[1;32mfor\u001b[0m \u001b[0mindex\u001b[0m\u001b[1;33m,\u001b[0m \u001b[0mrow\u001b[0m \u001b[1;32min\u001b[0m \u001b[0mtrain_article\u001b[0m\u001b[1;33m.\u001b[0m\u001b[0miterrows\u001b[0m\u001b[1;33m(\u001b[0m\u001b[1;33m)\u001b[0m\u001b[1;33m:\u001b[0m\u001b[1;33m\u001b[0m\u001b[1;33m\u001b[0m\u001b[0m\n\u001b[1;32m----> 4\u001b[1;33m     \u001b[0marticle_score\u001b[0m \u001b[1;33m=\u001b[0m \u001b[0mmh_ratio\u001b[0m\u001b[1;33m(\u001b[0m\u001b[0mrow\u001b[0m\u001b[1;33m.\u001b[0m\u001b[0mget\u001b[0m\u001b[1;33m(\u001b[0m\u001b[1;34m\"article\"\u001b[0m\u001b[1;33m)\u001b[0m\u001b[1;33m)\u001b[0m\u001b[1;33m\u001b[0m\u001b[1;33m\u001b[0m\u001b[0m\n\u001b[0m\u001b[0;32m      5\u001b[0m     \u001b[1;32mif\u001b[0m \u001b[0mindex\u001b[0m \u001b[1;33m%\u001b[0m\u001b[1;36m1000\u001b[0m \u001b[1;33m==\u001b[0m \u001b[1;36m0\u001b[0m\u001b[1;33m:\u001b[0m\u001b[1;33m\u001b[0m\u001b[1;33m\u001b[0m\u001b[0m\n\u001b[0;32m      6\u001b[0m         \u001b[0mprint\u001b[0m\u001b[1;33m(\u001b[0m\u001b[1;34m\"index:\"\u001b[0m\u001b[1;33m,\u001b[0m\u001b[0mindex\u001b[0m\u001b[1;33m)\u001b[0m\u001b[1;33m\u001b[0m\u001b[1;33m\u001b[0m\u001b[0m\n",
      "\u001b[1;32m<ipython-input-255-a988f5585ab2>\u001b[0m in \u001b[0;36mmh_ratio\u001b[1;34m(demo)\u001b[0m\n\u001b[0;32m     10\u001b[0m             \u001b[0mnew_dic_1\u001b[0m\u001b[1;33m.\u001b[0m\u001b[0mappend\u001b[0m\u001b[1;33m(\u001b[0m\u001b[0mw\u001b[0m\u001b[1;33m)\u001b[0m\u001b[1;33m\u001b[0m\u001b[1;33m\u001b[0m\u001b[0m\n\u001b[0;32m     11\u001b[0m     \u001b[1;31m#print(len(new_dic_0)/(len(new_dic_0)+len(new_dic_1)))\u001b[0m\u001b[1;33m\u001b[0m\u001b[1;33m\u001b[0m\u001b[1;33m\u001b[0m\u001b[0m\n\u001b[1;32m---> 12\u001b[1;33m     \u001b[1;32mreturn\u001b[0m \u001b[0mlen\u001b[0m\u001b[1;33m(\u001b[0m\u001b[0mnew_dic_0\u001b[0m\u001b[1;33m)\u001b[0m\u001b[1;33m/\u001b[0m\u001b[1;33m(\u001b[0m\u001b[0mlen\u001b[0m\u001b[1;33m(\u001b[0m\u001b[0mnew_dic_0\u001b[0m\u001b[1;33m)\u001b[0m\u001b[1;33m+\u001b[0m\u001b[0mlen\u001b[0m\u001b[1;33m(\u001b[0m\u001b[0mnew_dic_1\u001b[0m\u001b[1;33m)\u001b[0m\u001b[1;33m)\u001b[0m\u001b[1;31m#大于0.5属于初中 小于0.5属于高中\u001b[0m\u001b[1;33m\u001b[0m\u001b[1;33m\u001b[0m\u001b[0m\n\u001b[0m",
      "\u001b[1;31mZeroDivisionError\u001b[0m: division by zero"
     ]
    }
   ],
   "source": [
    "h_f = []\n",
    "m_f = []\n",
    "for index, row in train_article.iterrows():\n",
    "    article_score = mh_ratio(row.get(\"article\"))\n",
    "    if index %1000 == 0:\n",
    "        print(\"index:\",index)\n",
    "    if row.get(\"class\") == \"high\":\n",
    "        h_f.append(article_score)\n",
    "    if row.get(\"class\") == \"middle\":\n",
    "        m_f.append(article_score)"
   ]
  },
  {
   "cell_type": "code",
   "execution_count": 252,
   "metadata": {},
   "outputs": [
    {
     "name": "stdout",
     "output_type": "stream",
     "text": [
      "0.07142857142857142 0.5 0.2803147848937072 5236 0.2803147848937076 0.04979700984088811\n",
      "0.0 0.5454545454545454 0.33493985326515613 18728 0.33493985326515774 0.04572815474382353\n"
     ]
    }
   ],
   "source": [
    "print(min(m_f),max(m_f),sum(m_f)/len(m_f),len(m_f),np.mean(m_f),np.std(m_f))\n",
    "a = np.mean(m_f)\n",
    "b = np.std(m_f)\n",
    "m_f_s = []\n",
    "for i in m_f:\n",
    "    m_f_s.append((i- a)/b)\n",
    "print(min(h_f),max(h_f),sum(h_f)/len(h_f),len(h_f),np.mean(h_f),np.std(h_f))\n",
    "a = np.mean(h_f)\n",
    "b = np.std(h_f)\n",
    "h_f_s = []\n",
    "for i in h_f:\n",
    "    h_f_s.append((i- a)/b)\n"
   ]
  },
  {
   "cell_type": "code",
   "execution_count": 253,
   "metadata": {},
   "outputs": [
    {
     "data": {
      "text/plain": [
       "[<matplotlib.lines.Line2D at 0x20dbbc6c130>]"
      ]
     },
     "execution_count": 253,
     "metadata": {},
     "output_type": "execute_result"
    },
    {
     "data": {
      "image/png": "[encoded data removed]",
      "text/plain": [
       "<Figure size 432x288 with 1 Axes>"
      ]
     },
     "metadata": {
      "needs_background": "light"
     },
     "output_type": "display_data"
    }
   ],
   "source": [
    "plt.plot(h_f_s)\n",
    "plt.plot(m_f_s)"
   ]
  },
  {
   "cell_type": "code",
   "execution_count": null,
   "metadata": {},
   "outputs": [],
   "source": []
  }
 ],
 "metadata": {
  "kernelspec": {
   "display_name": "py_torch",
   "language": "python",
   "name": "py_torch"
  },
  "language_info": {
   "codemirror_mode": {
    "name": "ipython",
    "version": 3
   },
   "file_extension": ".py",
   "mimetype": "text/x-python",
   "name": "python",
   "nbconvert_exporter": "python",
   "pygments_lexer": "ipython3",
   "version": "3.8.5"
  }
 },
 "nbformat": 4,
 "nbformat_minor": 4
}
